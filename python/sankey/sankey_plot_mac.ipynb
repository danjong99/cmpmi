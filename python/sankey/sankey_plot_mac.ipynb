{
 "cells": [
  {
   "cell_type": "code",
   "execution_count": 57,
   "metadata": {},
   "outputs": [],
   "source": [
    "%matplotlib inline\n",
    "import pandas as pd\n",
    "import numpy as np\n",
    "from seaborn import distplot, heatmap, clustermap\n",
    "from scipy.stats import spearmanr, pearsonr, pearson3\n",
    "from pySankey import sankey"
   ]
  },
  {
   "cell_type": "code",
   "execution_count": 58,
   "metadata": {},
   "outputs": [],
   "source": [
    "auc = pd.read_table('auc_mtx_mac.txt', index_col=0, header=0 )\n",
    "cell_info = pd.read_table( 'cellInfo2.txt' )\n",
    "cell_info2 = cell_info[ cell_info.index.isin( auc.columns ) ]"
   ]
  },
  {
   "cell_type": "code",
   "execution_count": 59,
   "metadata": {},
   "outputs": [
    {
     "data": {
      "text/plain": [
       "Index(['GF_TGGATCGACCGC', 'GF_AGCCGTCTTGGG', 'GF_CTGCCAGGGGTG',\n",
       "       'WT_ACTTGCTCATTG', 'GF_TTTTTGTCAGAG', 'WT_TTCGAAAGGGAC',\n",
       "       'GF_CGGGAAAGCGCC', 'GF_CCGGGATTACTT', 'GF_TCGGAGGGTGGG',\n",
       "       'GF_GGCATTGAGTGT',\n",
       "       ...\n",
       "       'WT_CCATGTACCCCA', 'GF_TTGTCGCATGCN', 'GF_GGAAGGCTACAG',\n",
       "       'WT_CTCGTAAAACTG', 'WT_ATTATGCGATGA', 'GF_CTGTTTCTTATA',\n",
       "       'GF_ACTTGGCGGTCA', 'WT_CTAGTGAAAGTG', 'WT_TCGTTCCCACGT',\n",
       "       'GF_CGAACCCTGCCC'],\n",
       "      dtype='object', length=296)"
      ]
     },
     "execution_count": 59,
     "metadata": {},
     "output_type": "execute_result"
    }
   ],
   "source": [
    "auc.columns"
   ]
  },
  {
   "cell_type": "code",
   "execution_count": 60,
   "metadata": {},
   "outputs": [
    {
     "data": {
      "text/html": [
       "<div>\n",
       "<style scoped>\n",
       "    .dataframe tbody tr th:only-of-type {\n",
       "        vertical-align: middle;\n",
       "    }\n",
       "\n",
       "    .dataframe tbody tr th {\n",
       "        vertical-align: top;\n",
       "    }\n",
       "\n",
       "    .dataframe thead th {\n",
       "        text-align: right;\n",
       "    }\n",
       "</style>\n",
       "<table border=\"1\" class=\"dataframe\">\n",
       "  <thead>\n",
       "    <tr style=\"text-align: right;\">\n",
       "      <th></th>\n",
       "      <th>Tfdp1_extended (133g)</th>\n",
       "      <th>Nfyb_extended (47g)</th>\n",
       "      <th>Nfyb (28g)</th>\n",
       "      <th>E2f2_extended (187g)</th>\n",
       "      <th>E2f2 (147g)</th>\n",
       "      <th>E2f8_extended (36g)</th>\n",
       "      <th>E2f8 (19g)</th>\n",
       "      <th>Sin3a_extended (770g)</th>\n",
       "      <th>Sin3a (334g)</th>\n",
       "      <th>Mxi1_extended (2236g)</th>\n",
       "      <th>...</th>\n",
       "      <th>Rfx2_extended (52g)</th>\n",
       "      <th>Rfx2 (37g)</th>\n",
       "      <th>Tcf12_extended (17g)</th>\n",
       "      <th>Ets1_extended (10g)</th>\n",
       "      <th>Ar_extended (19g)</th>\n",
       "      <th>Foxj1_extended (17g)</th>\n",
       "      <th>Brf2_extended (10g)</th>\n",
       "      <th>Nr2f6_extended (15g)</th>\n",
       "      <th>Xrcc4_extended (335g)</th>\n",
       "      <th>Zfp148_extended (41g)</th>\n",
       "    </tr>\n",
       "  </thead>\n",
       "  <tbody>\n",
       "    <tr>\n",
       "      <th>GF_TGGATCGACCGC</th>\n",
       "      <td>0.328464</td>\n",
       "      <td>0.590177</td>\n",
       "      <td>0.521582</td>\n",
       "      <td>-1.383219</td>\n",
       "      <td>-1.187652</td>\n",
       "      <td>-0.933751</td>\n",
       "      <td>-0.778557</td>\n",
       "      <td>1.193100</td>\n",
       "      <td>0.646874</td>\n",
       "      <td>-0.846633</td>\n",
       "      <td>...</td>\n",
       "      <td>0.242949</td>\n",
       "      <td>0.505115</td>\n",
       "      <td>-1.071423</td>\n",
       "      <td>-0.867500</td>\n",
       "      <td>0.836262</td>\n",
       "      <td>-0.053671</td>\n",
       "      <td>4.737561</td>\n",
       "      <td>0.174459</td>\n",
       "      <td>-0.658069</td>\n",
       "      <td>-0.131078</td>\n",
       "    </tr>\n",
       "    <tr>\n",
       "      <th>GF_AGCCGTCTTGGG</th>\n",
       "      <td>-1.050428</td>\n",
       "      <td>-0.700313</td>\n",
       "      <td>-0.247497</td>\n",
       "      <td>-0.013438</td>\n",
       "      <td>-1.063722</td>\n",
       "      <td>-0.501183</td>\n",
       "      <td>-0.778557</td>\n",
       "      <td>0.032502</td>\n",
       "      <td>-0.018893</td>\n",
       "      <td>1.046967</td>\n",
       "      <td>...</td>\n",
       "      <td>-0.423235</td>\n",
       "      <td>-0.042179</td>\n",
       "      <td>1.948174</td>\n",
       "      <td>-0.659616</td>\n",
       "      <td>-0.461453</td>\n",
       "      <td>-0.989495</td>\n",
       "      <td>-0.450255</td>\n",
       "      <td>-1.109105</td>\n",
       "      <td>-0.282607</td>\n",
       "      <td>-0.936048</td>\n",
       "    </tr>\n",
       "    <tr>\n",
       "      <th>GF_CTGCCAGGGGTG</th>\n",
       "      <td>-0.594866</td>\n",
       "      <td>0.712134</td>\n",
       "      <td>1.431461</td>\n",
       "      <td>-2.144545</td>\n",
       "      <td>-2.143045</td>\n",
       "      <td>1.502090</td>\n",
       "      <td>-0.032484</td>\n",
       "      <td>0.906100</td>\n",
       "      <td>-0.005214</td>\n",
       "      <td>-1.136606</td>\n",
       "      <td>...</td>\n",
       "      <td>-0.484154</td>\n",
       "      <td>-1.048418</td>\n",
       "      <td>-0.794345</td>\n",
       "      <td>1.788869</td>\n",
       "      <td>-0.799833</td>\n",
       "      <td>-0.989495</td>\n",
       "      <td>-0.450255</td>\n",
       "      <td>-0.542458</td>\n",
       "      <td>-0.793340</td>\n",
       "      <td>-0.276132</td>\n",
       "    </tr>\n",
       "    <tr>\n",
       "      <th>WT_ACTTGCTCATTG</th>\n",
       "      <td>-1.317281</td>\n",
       "      <td>0.809567</td>\n",
       "      <td>0.165601</td>\n",
       "      <td>0.632715</td>\n",
       "      <td>0.763594</td>\n",
       "      <td>-0.282457</td>\n",
       "      <td>0.273191</td>\n",
       "      <td>-0.421538</td>\n",
       "      <td>-0.211938</td>\n",
       "      <td>-1.938478</td>\n",
       "      <td>...</td>\n",
       "      <td>-0.468433</td>\n",
       "      <td>-0.097100</td>\n",
       "      <td>0.538209</td>\n",
       "      <td>-0.477352</td>\n",
       "      <td>0.636796</td>\n",
       "      <td>0.002591</td>\n",
       "      <td>-0.450255</td>\n",
       "      <td>0.208270</td>\n",
       "      <td>-0.257147</td>\n",
       "      <td>-0.296322</td>\n",
       "    </tr>\n",
       "    <tr>\n",
       "      <th>GF_TTTTTGTCAGAG</th>\n",
       "      <td>-2.257369</td>\n",
       "      <td>-0.950855</td>\n",
       "      <td>-1.764404</td>\n",
       "      <td>0.587189</td>\n",
       "      <td>0.389767</td>\n",
       "      <td>1.007106</td>\n",
       "      <td>0.347912</td>\n",
       "      <td>1.668120</td>\n",
       "      <td>1.673957</td>\n",
       "      <td>-1.224609</td>\n",
       "      <td>...</td>\n",
       "      <td>-0.881899</td>\n",
       "      <td>-0.599503</td>\n",
       "      <td>0.881639</td>\n",
       "      <td>-0.867500</td>\n",
       "      <td>-0.026903</td>\n",
       "      <td>1.089385</td>\n",
       "      <td>-0.450255</td>\n",
       "      <td>-1.109105</td>\n",
       "      <td>0.333227</td>\n",
       "      <td>0.707366</td>\n",
       "    </tr>\n",
       "  </tbody>\n",
       "</table>\n",
       "<p>5 rows × 215 columns</p>\n",
       "</div>"
      ],
      "text/plain": [
       "                 Tfdp1_extended (133g)  Nfyb_extended (47g)  Nfyb (28g)  \\\n",
       "GF_TGGATCGACCGC               0.328464             0.590177    0.521582   \n",
       "GF_AGCCGTCTTGGG              -1.050428            -0.700313   -0.247497   \n",
       "GF_CTGCCAGGGGTG              -0.594866             0.712134    1.431461   \n",
       "WT_ACTTGCTCATTG              -1.317281             0.809567    0.165601   \n",
       "GF_TTTTTGTCAGAG              -2.257369            -0.950855   -1.764404   \n",
       "\n",
       "                 E2f2_extended (187g)  E2f2 (147g)  E2f8_extended (36g)  \\\n",
       "GF_TGGATCGACCGC             -1.383219    -1.187652            -0.933751   \n",
       "GF_AGCCGTCTTGGG             -0.013438    -1.063722            -0.501183   \n",
       "GF_CTGCCAGGGGTG             -2.144545    -2.143045             1.502090   \n",
       "WT_ACTTGCTCATTG              0.632715     0.763594            -0.282457   \n",
       "GF_TTTTTGTCAGAG              0.587189     0.389767             1.007106   \n",
       "\n",
       "                 E2f8 (19g)  Sin3a_extended (770g)  Sin3a (334g)  \\\n",
       "GF_TGGATCGACCGC   -0.778557               1.193100      0.646874   \n",
       "GF_AGCCGTCTTGGG   -0.778557               0.032502     -0.018893   \n",
       "GF_CTGCCAGGGGTG   -0.032484               0.906100     -0.005214   \n",
       "WT_ACTTGCTCATTG    0.273191              -0.421538     -0.211938   \n",
       "GF_TTTTTGTCAGAG    0.347912               1.668120      1.673957   \n",
       "\n",
       "                 Mxi1_extended (2236g)          ...            \\\n",
       "GF_TGGATCGACCGC              -0.846633          ...             \n",
       "GF_AGCCGTCTTGGG               1.046967          ...             \n",
       "GF_CTGCCAGGGGTG              -1.136606          ...             \n",
       "WT_ACTTGCTCATTG              -1.938478          ...             \n",
       "GF_TTTTTGTCAGAG              -1.224609          ...             \n",
       "\n",
       "                 Rfx2_extended (52g)  Rfx2 (37g)  Tcf12_extended (17g)  \\\n",
       "GF_TGGATCGACCGC             0.242949    0.505115             -1.071423   \n",
       "GF_AGCCGTCTTGGG            -0.423235   -0.042179              1.948174   \n",
       "GF_CTGCCAGGGGTG            -0.484154   -1.048418             -0.794345   \n",
       "WT_ACTTGCTCATTG            -0.468433   -0.097100              0.538209   \n",
       "GF_TTTTTGTCAGAG            -0.881899   -0.599503              0.881639   \n",
       "\n",
       "                 Ets1_extended (10g)  Ar_extended (19g)  Foxj1_extended (17g)  \\\n",
       "GF_TGGATCGACCGC            -0.867500           0.836262             -0.053671   \n",
       "GF_AGCCGTCTTGGG            -0.659616          -0.461453             -0.989495   \n",
       "GF_CTGCCAGGGGTG             1.788869          -0.799833             -0.989495   \n",
       "WT_ACTTGCTCATTG            -0.477352           0.636796              0.002591   \n",
       "GF_TTTTTGTCAGAG            -0.867500          -0.026903              1.089385   \n",
       "\n",
       "                 Brf2_extended (10g)  Nr2f6_extended (15g)  \\\n",
       "GF_TGGATCGACCGC             4.737561              0.174459   \n",
       "GF_AGCCGTCTTGGG            -0.450255             -1.109105   \n",
       "GF_CTGCCAGGGGTG            -0.450255             -0.542458   \n",
       "WT_ACTTGCTCATTG            -0.450255              0.208270   \n",
       "GF_TTTTTGTCAGAG            -0.450255             -1.109105   \n",
       "\n",
       "                 Xrcc4_extended (335g)  Zfp148_extended (41g)  \n",
       "GF_TGGATCGACCGC              -0.658069              -0.131078  \n",
       "GF_AGCCGTCTTGGG              -0.282607              -0.936048  \n",
       "GF_CTGCCAGGGGTG              -0.793340              -0.276132  \n",
       "WT_ACTTGCTCATTG              -0.257147              -0.296322  \n",
       "GF_TTTTTGTCAGAG               0.333227               0.707366  \n",
       "\n",
       "[5 rows x 215 columns]"
      ]
     },
     "execution_count": 60,
     "metadata": {},
     "output_type": "execute_result"
    }
   ],
   "source": [
    "aucz = ((auc.transpose() - auc.mean(1))/auc.std(1)).transpose()\n",
    "aucz.transpose().head()"
   ]
  },
  {
   "cell_type": "code",
   "execution_count": 61,
   "metadata": {},
   "outputs": [
    {
     "data": {
      "text/plain": [
       "array([ 1,  2,  3,  4,  6,  7, 11])"
      ]
     },
     "execution_count": 61,
     "metadata": {},
     "output_type": "execute_result"
    }
   ],
   "source": [
    "c2t = cell_info2.CellType\n",
    "c2t.unique()"
   ]
  },
  {
   "cell_type": "code",
   "execution_count": 62,
   "metadata": {
    "scrolled": false
   },
   "outputs": [],
   "source": [
    "r2t = pd.read_table('csi_clusterID_table.txt').x"
   ]
  },
  {
   "cell_type": "code",
   "execution_count": 63,
   "metadata": {},
   "outputs": [
    {
     "data": {
      "text/plain": [
       "GF_TGGATCGACCGC  Tfdp1_extended (133g)    False\n",
       "                 Nfyb_extended (47g)      False\n",
       "                 Nfyb (28g)               False\n",
       "                 E2f2_extended (187g)     False\n",
       "                 E2f2 (147g)              False\n",
       "dtype: bool"
      ]
     },
     "execution_count": 63,
     "metadata": {},
     "output_type": "execute_result"
    }
   ],
   "source": [
    "(aucz > 2).unstack().head()"
   ]
  },
  {
   "cell_type": "code",
   "execution_count": 64,
   "metadata": {},
   "outputs": [],
   "source": [
    "from collections import Counter\n",
    "c = []\n",
    "\n",
    "for (cellid,regulonid),v in ((aucz > 2).unstack()).iteritems():\n",
    "    if v :\n",
    "        c.append( (\"c%s\"%c2t[cellid], \"m%s\"%r2t[regulonid] ) )"
   ]
  },
  {
   "cell_type": "code",
   "execution_count": 65,
   "metadata": {},
   "outputs": [
    {
     "data": {
      "text/plain": [
       "1909"
      ]
     },
     "execution_count": 65,
     "metadata": {},
     "output_type": "execute_result"
    }
   ],
   "source": [
    "len(c)"
   ]
  },
  {
   "cell_type": "code",
   "execution_count": 66,
   "metadata": {},
   "outputs": [],
   "source": [
    "df = pd.DataFrame(c)"
   ]
  },
  {
   "cell_type": "code",
   "execution_count": 67,
   "metadata": {},
   "outputs": [
    {
     "data": {
      "image/png": "[encoded data removed]",
      "text/plain": [
       "<Figure size 432x432 with 1 Axes>"
      ]
     },
     "metadata": {
      "needs_background": "light"
     },
     "output_type": "display_data"
    }
   ],
   "source": [
    "sankey.sankey( df[0], df[1])"
   ]
  },
  {
   "cell_type": "code",
   "execution_count": null,
   "metadata": {},
   "outputs": [],
   "source": []
  },
  {
   "cell_type": "code",
   "execution_count": null,
   "metadata": {},
   "outputs": [],
   "source": []
  },
  {
   "cell_type": "code",
   "execution_count": null,
   "metadata": {},
   "outputs": [],
   "source": []
  }
 ],
 "metadata": {
  "kernelspec": {
   "display_name": "Python 3",
   "language": "python",
   "name": "python3"
  },
  "language_info": {
   "codemirror_mode": {
    "name": "ipython",
    "version": 3
   },
   "file_extension": ".py",
   "mimetype": "text/x-python",
   "name": "python",
   "nbconvert_exporter": "python",
   "pygments_lexer": "ipython3",
   "version": "3.7.1"
  }
 },
 "nbformat": 4,
 "nbformat_minor": 2
}
